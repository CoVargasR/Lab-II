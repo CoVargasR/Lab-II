{
 "cells": [
  {
   "cell_type": "code",
   "execution_count": 3,
   "id": "6df2f9e2",
   "metadata": {},
   "outputs": [],
   "source": [
    "import numpy as np\n",
    "import matplotlib.pyplot as plt"
   ]
  },
  {
   "cell_type": "markdown",
   "id": "bbba8812",
   "metadata": {},
   "source": [
    "## Ecuación de Indice de Refraccion"
   ]
  },
  {
   "cell_type": "code",
   "execution_count": 17,
   "id": "524d7546",
   "metadata": {},
   "outputs": [],
   "source": [
    "def teta(x,y):\n",
    "    return np.arctan(y/x)\n",
    "    \n",
    "def n(x,y1,y2):\n",
    "    return np.sin(teta(x,y1))/np.sin(teta(x,y2))"
   ]
  },
  {
   "cell_type": "markdown",
   "id": "1e21476e",
   "metadata": {},
   "source": [
    "## Datos"
   ]
  },
  {
   "cell_type": "code",
   "execution_count": 18,
   "id": "bbd5d56e",
   "metadata": {},
   "outputs": [],
   "source": [
    "x = 9.8  #Distancia obstaculo pantalla\n",
    "dx = 0.05\n",
    "y1 = np.array([4.440,4.470,4.230,4.410]) #distancia orden de difraccion aire\n",
    "Y1 = np.mean(y1) #promedio aire\n",
    "y2 = np.array([3.26,3.45,3.19,3.16]) #distancia orden de difracción agua\n",
    "Y2 = np.mean(y2) #promedio agua\n",
    "dy = 0.005 "
   ]
  },
  {
   "cell_type": "markdown",
   "id": "c43ba94f",
   "metadata": {},
   "source": [
    "## Calculo de promedio y desviacion estandar"
   ]
  },
  {
   "cell_type": "code",
   "execution_count": 21,
   "id": "9f893885",
   "metadata": {},
   "outputs": [
    {
     "name": "stdout",
     "output_type": "stream",
     "text": [
      "4.3875 3.265\n",
      "0.3055719996742426 0.33586476702206325\n"
     ]
    }
   ],
   "source": [
    "print(Y1, Y2)\n",
    "print(np.sqrt(np.std(y1)), np.sqrt(np.std(y2)))\n",
    "#Los aproximamos al primer decimal"
   ]
  },
  {
   "cell_type": "markdown",
   "id": "2bed1824",
   "metadata": {},
   "source": [
    "## Datos 2.0"
   ]
  },
  {
   "cell_type": "code",
   "execution_count": null,
   "id": "4108616a",
   "metadata": {},
   "outputs": [],
   "source": [
    "x = 9.8\n",
    "Y1 = 4.4\n",
    "Y2 = 3.3\n",
    "dx = 0.05 #error de medicion \n",
    "dy1 = 0.3 #desviación estandar y1\n",
    "dy2 = 0.3 #desviacion estandar y2\n"
   ]
  },
  {
   "cell_type": "markdown",
   "id": "03569f34",
   "metadata": {},
   "source": [
    "## Calculo de errores"
   ]
  },
  {
   "cell_type": "code",
   "execution_count": null,
   "id": "ac3172bf",
   "metadata": {},
   "outputs": [],
   "source": [
    "def dt(y,dy): #error angulo\n",
    "    return (1/(x**2+y**2))*np.sqrt(((x*dy)**2+(y*dx)**2)) \n",
    "\n",
    "dn1 = np.cos(teta(x,Y1))/np.sin(teta(x,Y2))\n",
    "dn2 = np.sin(teta(x,Y1))*np.cos(teta(x,Y2))/np.sin(teta(x,Y2))**2\n",
    "\n",
    "dn = np.sqrt(dn1**2*dt(Y1,dy1)**2+dn2**2*dt(Y2,dy2)**2) #error propagado indice de refraccion"
   ]
  },
  {
   "cell_type": "markdown",
   "id": "c94371cc",
   "metadata": {},
   "source": [
    "## Resultados experimentales"
   ]
  },
  {
   "cell_type": "code",
   "execution_count": 29,
   "id": "1915f2ae",
   "metadata": {},
   "outputs": [
    {
     "name": "stdout",
     "output_type": "stream",
     "text": [
      "n = 1.2927677146994199  $\\pm$  0.12786908720089207\n"
     ]
    }
   ],
   "source": [
    "print('n =', n(x,Y1,Y2), ' $\\\\pm$ ',  dn)\n",
    "#aproximamos al primer decimal"
   ]
  },
  {
   "cell_type": "code",
   "execution_count": 30,
   "id": "02dc19e5",
   "metadata": {},
   "outputs": [
    {
     "name": "stdout",
     "output_type": "stream",
     "text": [
      "n = 1.3 $\\pm$ 0.1\n"
     ]
    }
   ],
   "source": [
    "print('n =', 1.3 ,'$\\\\pm$', 0.1)"
   ]
  },
  {
   "cell_type": "code",
   "execution_count": null,
   "id": "983c08bc",
   "metadata": {},
   "outputs": [],
   "source": []
  }
 ],
 "metadata": {
  "kernelspec": {
   "display_name": "Python 3",
   "language": "python",
   "name": "python3"
  },
  "language_info": {
   "codemirror_mode": {
    "name": "ipython",
    "version": 3
   },
   "file_extension": ".py",
   "mimetype": "text/x-python",
   "name": "python",
   "nbconvert_exporter": "python",
   "pygments_lexer": "ipython3",
   "version": "3.8.8"
  }
 },
 "nbformat": 4,
 "nbformat_minor": 5
}
