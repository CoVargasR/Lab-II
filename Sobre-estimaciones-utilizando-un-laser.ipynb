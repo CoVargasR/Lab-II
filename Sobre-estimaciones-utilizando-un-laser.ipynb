{
 "cells": [
  {
   "cell_type": "code",
   "execution_count": 1,
   "metadata": {},
   "outputs": [],
   "source": [
    "import numpy as np\n",
    "import matplotlib.pyplot as plt"
   ]
  },
  {
   "cell_type": "markdown",
   "metadata": {},
   "source": [
    "## Experimento CD"
   ]
  },
  {
   "cell_type": "code",
   "execution_count": 2,
   "metadata": {},
   "outputs": [],
   "source": [
    "#Tamaño del surco\n",
    "\n",
    "def surco(x,y,lamda):\n",
    "    theta = np.arctan(y/x)\n",
    "    return lamda/np.sin(theta)"
   ]
  },
  {
   "cell_type": "code",
   "execution_count": 3,
   "metadata": {},
   "outputs": [],
   "source": [
    "#Propagacion de errores\n",
    "\n",
    "def error(x,y,lamda,dx,dy,dlamda):\n",
    "    theta = np.arctan(y/x)\n",
    "    dtheta = (1/(x**2+y**2))*np.sqrt(((x*dy)**2+(y*dx)**2))    \n",
    "    return  np.sqrt((dlamda/np.sin(theta))**2 + (lamda*dtheta*np.cos(theta)/np.sin(theta)**2)**2)\n",
    "                                                "
   ]
  },
  {
   "cell_type": "code",
   "execution_count": 4,
   "metadata": {},
   "outputs": [],
   "source": [
    "# Almacenamiento\n",
    "\n",
    "def c(a):\n",
    "    return 700*1600/a\n",
    "\n",
    "#Error calculo de almacenamiento \n",
    "\n",
    "def ec(a,da):\n",
    "    return 700*1600*da/a**2"
   ]
  },
  {
   "cell_type": "code",
   "execution_count": 5,
   "metadata": {},
   "outputs": [],
   "source": [
    "# MEDICION 1: DATOS\n",
    "\n",
    "y1 = 22.9\n",
    "dy1 = 0.05\n",
    "x1 = 39.8\n",
    "dx1 = 0.05\n",
    "lamda = 640\n",
    "dlamda = 10"
   ]
  },
  {
   "cell_type": "code",
   "execution_count": 6,
   "metadata": {},
   "outputs": [
    {
     "data": {
      "text/plain": [
       "1283.2939444111184"
      ]
     },
     "execution_count": 6,
     "metadata": {},
     "output_type": "execute_result"
    }
   ],
   "source": [
    "a1 =surco(x1,y1,lamda) #tamaño surco\n",
    "a1"
   ]
  },
  {
   "cell_type": "code",
   "execution_count": 7,
   "metadata": {},
   "outputs": [
    {
     "data": {
      "text/plain": [
       "20.198010489001692"
      ]
     },
     "execution_count": 7,
     "metadata": {},
     "output_type": "execute_result"
    }
   ],
   "source": [
    "da1 = error(x1,y1,lamda,dx1,dy1,dlamda) #error surco\n",
    "da1"
   ]
  },
  {
   "cell_type": "code",
   "execution_count": 8,
   "metadata": {},
   "outputs": [
    {
     "data": {
      "text/plain": [
       "872.7540598767096"
      ]
     },
     "execution_count": 8,
     "metadata": {},
     "output_type": "execute_result"
    }
   ],
   "source": [
    "c(a1) #capacidad"
   ]
  },
  {
   "cell_type": "code",
   "execution_count": 9,
   "metadata": {},
   "outputs": [
    {
     "data": {
      "text/plain": [
       "13.73644419696668"
      ]
     },
     "execution_count": 9,
     "metadata": {},
     "output_type": "execute_result"
    }
   ],
   "source": [
    "ec(a1,da1) #error capacidad"
   ]
  },
  {
   "cell_type": "code",
   "execution_count": 10,
   "metadata": {},
   "outputs": [],
   "source": [
    "# Medicion 2: DATOS\n",
    "\n",
    "x2 = 59.8\n",
    "dx2 = 0.05\n",
    "y2 = 29.9\n",
    "dy2 = 0.05\n"
   ]
  },
  {
   "cell_type": "code",
   "execution_count": 11,
   "metadata": {},
   "outputs": [
    {
     "data": {
      "text/plain": [
       "1431.0835055998655"
      ]
     },
     "execution_count": 11,
     "metadata": {},
     "output_type": "execute_result"
    }
   ],
   "source": [
    "a2 = surco(x2,y2,lamda)\n",
    "a2"
   ]
  },
  {
   "cell_type": "code",
   "execution_count": 12,
   "metadata": {},
   "outputs": [
    {
     "data": {
      "text/plain": [
       "22.462893941623257"
      ]
     },
     "execution_count": 12,
     "metadata": {},
     "output_type": "execute_result"
    }
   ],
   "source": [
    "da2 = error(x2,y2,lamda,dx2,dy2,dlamda)\n",
    "da2"
   ]
  },
  {
   "cell_type": "code",
   "execution_count": 13,
   "metadata": {},
   "outputs": [
    {
     "data": {
      "text/plain": [
       "782.6237921249264"
      ]
     },
     "execution_count": 13,
     "metadata": {},
     "output_type": "execute_result"
    }
   ],
   "source": [
    "c(a2)"
   ]
  },
  {
   "cell_type": "code",
   "execution_count": 14,
   "metadata": {},
   "outputs": [
    {
     "data": {
      "text/plain": [
       "12.284395124325219"
      ]
     },
     "execution_count": 14,
     "metadata": {},
     "output_type": "execute_result"
    }
   ],
   "source": [
    "ec(a2,da2)"
   ]
  },
  {
   "cell_type": "markdown",
   "metadata": {},
   "source": [
    "# Experimento Pelo"
   ]
  },
  {
   "cell_type": "code",
   "execution_count": 15,
   "metadata": {},
   "outputs": [],
   "source": [
    "#Grosor pelo\n",
    "\n",
    "def g(x,y):\n",
    "    theta = np.arctan(y/x)\n",
    "    return lamda/(2*np.sin(theta))"
   ]
  },
  {
   "cell_type": "code",
   "execution_count": 16,
   "metadata": {},
   "outputs": [],
   "source": [
    "#Propagacion de errores\n",
    "\n",
    "def e(x,y,lamda,dx,dy,dlamda):\n",
    "    theta = np.arctan(y/x)\n",
    "    dtheta = (1/(x**2+y**2))*np.sqrt(((x*dy)**2+(y*dx)**2))    \n",
    "    return  np.sqrt((dlamda/np.sin(theta))**2 + (lamda*dtheta*np.cos(theta)/np.sin(theta)**2)**2)/2"
   ]
  },
  {
   "cell_type": "code",
   "execution_count": 17,
   "metadata": {},
   "outputs": [],
   "source": [
    "#Mediciones\n",
    "x = np.array([186,113.3,95,80,65,50])\n",
    "y = np.array([3.07,1.6,1.44,1.18,0.92,0.72])/2\n",
    "dx = 0.05\n",
    "dy = 0.005\n",
    "lamda = 640\n",
    "dlamda = 10"
   ]
  },
  {
   "cell_type": "code",
   "execution_count": 24,
   "metadata": {},
   "outputs": [
    {
     "data": {
      "text/plain": [
       "array([38.77656471, 45.32112973, 42.22343484, 43.39101049, 45.2185236 ,\n",
       "       44.44559643])"
      ]
     },
     "execution_count": 24,
     "metadata": {},
     "output_type": "execute_result"
    }
   ],
   "source": [
    "g(x,y)/1000 #grosor pelo en micrometros"
   ]
  },
  {
   "cell_type": "code",
   "execution_count": 23,
   "metadata": {},
   "outputs": [
    {
     "name": "stdout",
     "output_type": "stream",
     "text": [
      "[1.23799094 1.52589981 1.44460279 1.54350513 1.72274361 1.86040105]\n"
     ]
    }
   ],
   "source": [
    "e = error(x,y,lamda,dx,dy,dlamda)/1000 #error grosor pelo en micrometros\n",
    "print(e)"
   ]
  },
  {
   "cell_type": "code",
   "execution_count": 20,
   "metadata": {},
   "outputs": [
    {
     "data": {
      "text/plain": [
       "0.047551593512982486"
      ]
     },
     "execution_count": 20,
     "metadata": {},
     "output_type": "execute_result"
    }
   ],
   "source": [
    "np.sqrt(np.std(g(x,y)))/1000 #desviacion estandar en micrometros"
   ]
  },
  {
   "cell_type": "code",
   "execution_count": 22,
   "metadata": {},
   "outputs": [
    {
     "data": {
      "text/plain": [
       "43.22937663224292"
      ]
     },
     "execution_count": 22,
     "metadata": {},
     "output_type": "execute_result"
    }
   ],
   "source": [
    "np.mean(g(x,y))/1000 #promedio de grosor en micrometros"
   ]
  },
  {
   "cell_type": "code",
   "execution_count": null,
   "metadata": {},
   "outputs": [],
   "source": []
  }
 ],
 "metadata": {
  "kernelspec": {
   "display_name": "Python 3",
   "language": "python",
   "name": "python3"
  },
  "language_info": {
   "codemirror_mode": {
    "name": "ipython",
    "version": 3
   },
   "file_extension": ".py",
   "mimetype": "text/x-python",
   "name": "python",
   "nbconvert_exporter": "python",
   "pygments_lexer": "ipython3",
   "version": "3.8.3"
  }
 },
 "nbformat": 4,
 "nbformat_minor": 4
}
